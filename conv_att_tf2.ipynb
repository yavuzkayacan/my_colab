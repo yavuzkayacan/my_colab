{
  "nbformat": 4,
  "nbformat_minor": 0,
  "metadata": {
    "colab": {
      "provenance": [],
      "authorship_tag": "ABX9TyO8Secl6vE2Xjf7zlRsEUfs",
      "include_colab_link": true
    },
    "kernelspec": {
      "name": "python3",
      "display_name": "Python 3"
    },
    "language_info": {
      "name": "python"
    }
  },
  "cells": [
    {
      "cell_type": "markdown",
      "metadata": {
        "id": "view-in-github",
        "colab_type": "text"
      },
      "source": [
        "<a href=\"https://colab.research.google.com/github/yavuzkayacan/my_colab/blob/main/conv_att_tf2.ipynb\" target=\"_parent\"><img src=\"https://colab.research.google.com/assets/colab-badge.svg\" alt=\"Open In Colab\"/></a>"
      ]
    },
    {
      "cell_type": "code",
      "execution_count": 1,
      "metadata": {
        "id": "4ulrUjN9Yczv"
      },
      "outputs": [],
      "source": [
        "import numpy as np\n",
        "import tensorflow as tf\n",
        "from tensorflow import keras\n",
        "from tensorflow.keras import layers"
      ]
    },
    {
      "cell_type": "code",
      "source": [
        "from keras.layers import Layer, Conv2D, Conv3D, UpSampling2D, MaxPooling2D, MaxPool2D, MaxPool3D, Conv3DTranspose, Concatenate, Conv2DTranspose,Add, SpatialDropout2D, BatchNormalization, Dense\n",
        "from tensorflow.keras.initializers import Zeros\n",
        "from tensorflow.keras.activations import softmax"
      ],
      "metadata": {
        "id": "MUonL73SY0UA"
      },
      "execution_count": 2,
      "outputs": []
    },
    {
      "cell_type": "code",
      "source": [
        "class Patches(layers.Layer):\n",
        "    def __init__(self, patch_size):\n",
        "        super(Patches, self).__init__()\n",
        "        self.patch_size = patch_size\n",
        "\n",
        "    def call(self, images):\n",
        "        patches = tf.image.extract_patches(\n",
        "            images=images,\n",
        "            sizes=[1, self.patch_size[0], self.patch_size[1], 1],\n",
        "            strides=[1, self.patch_size[0], self.patch_size[1], 1],\n",
        "            rates=[1, 1, 1, 1],\n",
        "            padding=\"VALID\",\n",
        "        )\n",
        "        batch_size,h,w,ch = images.shape\n",
        "        #print(batch_size,h,w,ch)\n",
        "        #batch_size = tf.shape(images)[0]\n",
        "        self.ch = ch\n",
        "        self.num_patches = h*w // (self.patch_size[0] * self.patch_size[1])\n",
        "        patches = tf.reshape(patches, (-1, self.num_patches, self.patch_size[0], self.patch_size[1], self.ch))\n",
        "\n",
        "        return patches"
      ],
      "metadata": {
        "id": "EPAun5uVZyOi"
      },
      "execution_count": 3,
      "outputs": []
    },
    {
      "cell_type": "code",
      "source": [
        "class SelfAttention(Layer):\n",
        "    def __init__(self, n_channels, **kwargs):\n",
        "        super(SelfAttention, self).__init__(**kwargs)\n",
        "        self.n_channels = n_channels\n",
        "        self.query = Conv3D(self.n_channels, kernel_size=1, kernel_initializer='he_normal',\n",
        "                            use_bias=True, padding = \"same\",activation = \"relu\" )\n",
        "        self.key = Conv3D(self.n_channels, kernel_size=1, kernel_initializer='he_normal',\n",
        "                          use_bias=True, padding = \"same\",activation = \"relu\" )\n",
        "        self.value = Conv3D(self.n_channels, kernel_size=1, kernel_initializer='he_normal',\n",
        "                            use_bias=True, padding = \"same\",activation = \"relu\" )\n",
        "        self.gamma = self.add_weight('gamma', shape=[1], initializer=Zeros(), trainable=True)\n",
        "\n",
        "    def call(self, x):\n",
        "\n",
        "        size = x.shape\n",
        "        f, g, h = self.query(x), self.key(x), self.value(x)\n",
        "        mat_mul = tf.matmul(tf.transpose(f, perm=[0, 1, 2, 4, 3]), g)\n",
        "        beta = softmax(mat_mul, axis=1)\n",
        "        o = self.gamma*tf.matmul(h, beta) + x\n",
        "\n",
        "        return o"
      ],
      "metadata": {
        "id": "wKJRBCv_Z0iE"
      },
      "execution_count": 4,
      "outputs": []
    },
    {
      "cell_type": "code",
      "source": [
        "class Reconstruct(layers.Layer):\n",
        "    def __init__(self, patch_size, num_patches, ch):\n",
        "        super(Reconstruct, self).__init__()\n",
        "        self.patch_size = patch_size\n",
        "        self.num_patches = num_patches\n",
        "        self.ch = ch\n",
        "\n",
        "    def call(self,patches):\n",
        "\n",
        "        reshaped_patches = tf.reshape(patches, (-1, self.num_patches[0], self.num_patches[1], self.patch_size[0], self.patch_size[0], self.ch))\n",
        "        reshaped_patches = tf.transpose(reshaped_patches, [0, 1, 3, 2, 4, 5])\n",
        "        reshaped_patches = tf.reshape(reshaped_patches, (-1, self.num_patches[0]*self.patch_size[0], self.num_patches[1]*self.patch_size[1], self.ch))\n",
        "\n",
        "        return reshaped_patches"
      ],
      "metadata": {
        "id": "0_79P70NZ9VH"
      },
      "execution_count": 5,
      "outputs": []
    },
    {
      "cell_type": "code",
      "source": [
        "from tensorflow.keras.layers import Layer\n",
        "class UnPixelShuffle(Layer):\n",
        "    def __init__(self, upscale_factor, **kwargs):\n",
        "        super(UnPixelShuffle, self).__init__(**kwargs)\n",
        "        self.upscale_factor = upscale_factor\n",
        "\n",
        "\n",
        "    def call(self, inputs, **kwargs):\n",
        "        batch_size, height, width, channels = inputs.shape\n",
        "        self.height = height\n",
        "        self.width = width\n",
        "\n",
        "        # Calculate the target channels after unshuffling\n",
        "        self.target_channels = channels * (self.upscale_factor ** 2)\n",
        "        # Reshape the input tensor\n",
        "        reshaped_inputs = tf.reshape(inputs, [-1, self.height // self.upscale_factor, self.upscale_factor, self.width // self.upscale_factor, self.upscale_factor, channels])\n",
        "        # Transpose and reshape to get the unshuffled result\n",
        "        unshuffled_result = tf.transpose(reshaped_inputs, [0, 1, 3, 2, 4, 5])\n",
        "\n",
        "        unshuffled_result = tf.reshape(unshuffled_result, [-1, self.height // self.upscale_factor, self.width // self.upscale_factor, self.target_channels])\n",
        "        return unshuffled_result"
      ],
      "metadata": {
        "id": "epUlltQPlyFP"
      },
      "execution_count": 6,
      "outputs": []
    },
    {
      "cell_type": "code",
      "source": [
        "class PixelShuffle(Layer):\n",
        "    def __init__(self, upscale_factor, **kwargs):\n",
        "        super(PixelShuffle, self).__init__(**kwargs)\n",
        "        self.upscale_factor = upscale_factor\n",
        "\n",
        "    def call(self, inputs, **kwargs):\n",
        "        batch_size, height, width, channels = inputs.shape\n",
        "        self.height = height\n",
        "        self.width = width\n",
        "\n",
        "        # Calculate the target channels after shuffling\n",
        "        self.target_channels = channels // (self.upscale_factor ** 2)\n",
        "\n",
        "        # Reshape the input tensor\n",
        "        reshaped_inputs = tf.reshape(inputs, [-1, self.height, self.width, self.target_channels, self.upscale_factor, self.upscale_factor])\n",
        "\n",
        "        # Transpose and reshape to get the shuffled result\n",
        "        shuffled_result = tf.transpose(reshaped_inputs, [0, 1, 4, 2, 5, 3])\n",
        "        shuffled_result = tf.reshape(shuffled_result, [-1, self.height * self.upscale_factor, self.width * self.upscale_factor, self.target_channels])\n",
        "\n",
        "        return shuffled_result"
      ],
      "metadata": {
        "id": "15_kXnKkbYs_"
      },
      "execution_count": 7,
      "outputs": []
    },
    {
      "cell_type": "code",
      "source": [
        "input_shape = (256, 64, 1)\n",
        "img_size = input_shape\n",
        "patch_size = np.array([4, 4])\n",
        "num_patches = (input_shape[0] // patch_size[0]) * (input_shape[1] // patch_size[1])\n",
        "num_patch = np.array([img_size[0]//patch_size[0], img_size[1]//patch_size[1]])"
      ],
      "metadata": {
        "id": "zJTFCeHuaMZ2"
      },
      "execution_count": 8,
      "outputs": []
    },
    {
      "cell_type": "code",
      "source": [],
      "metadata": {
        "id": "mmGNL1oBdwXG"
      },
      "execution_count": 8,
      "outputs": []
    },
    {
      "cell_type": "code",
      "source": [
        "def ConvAttention(input_shape,filter_num,kernel_size,patch_size,num_patch,depth):\n",
        "\n",
        "  X_skip = []\n",
        "  down_ch = []\n",
        "  inputs = layers.Input(shape=input_shape)\n",
        "  #Shallow feature extraction\n",
        "  X = Conv2D(filter_num,kernel_size,padding =\"same\",activation=\"relu\")(inputs)\n",
        "\n",
        "  #Encoder\n",
        "  channel_num = filter_num\n",
        "  for i in range(depth):\n",
        "\n",
        "    X = Conv2D(channel_num,kernel_size,padding =\"same\",activation=\"relu\")(X)\n",
        "\n",
        "    X_skip.append(X)\n",
        "\n",
        "    X = Patches(patch_size)(X)\n",
        "\n",
        "    X = SelfAttention(channel_num)(X)\n",
        "\n",
        "    X = Reconstruct(patch_size,num_patch,channel_num)(X)\n",
        "\n",
        "    X = MaxPooling2D((2, 2), padding='same')(X)\n",
        "\n",
        "    print(X.shape)\n",
        "\n",
        "    down_ch.append(channel_num)\n",
        "    channel_num = channel_num * 4\n",
        "    num_patch = num_patch // 2\n",
        "\n",
        "  down_ch = down_ch[::-1]\n",
        "  channel_num = channel_num // 4\n",
        "  X_skip = X_skip[::-1]\n",
        "\n",
        "  for i in range(depth):\n",
        "\n",
        "    X = Patches(patch_size)(X)\n",
        "    #print(X.shape)\n",
        "    #print(channel_num)\n",
        "    X = SelfAttention(channel_num)(X)\n",
        "    #print(X.shape)\n",
        "    X = Reconstruct(patch_size,num_patch,channel_num)(X)\n",
        "\n",
        "    X = PixelShuffle(2)(X)\n",
        "    X = Conv2D(X.shape[-1],kernel_size,padding =\"same\",activation=\"relu\")(X)\n",
        "\n",
        "\n",
        "    #print(X_skip[i].shape)\n",
        "\n",
        "    X = Concatenate()([X_skip[i],X])\n",
        "    print(X.shape)\n",
        "\n",
        "    channel_num = channel_num // 4 + down_ch[i]\n",
        "    num_patch = num_patch * 2\n",
        "\n",
        "  out = Conv2D(1 , 3, padding=\"same\", activation=\"relu\")(X)\n",
        "\n",
        "  model = keras.Model(inputs=inputs, outputs=out)\n",
        "\n",
        "  return model\n",
        "\n",
        "\n",
        "\n"
      ],
      "metadata": {
        "id": "ab1-JCBmaQ7w"
      },
      "execution_count": 63,
      "outputs": []
    },
    {
      "cell_type": "code",
      "source": [
        "model = ConvAttention(input_shape,32,3,patch_size,num_patch,3)"
      ],
      "metadata": {
        "colab": {
          "base_uri": "https://localhost:8080/"
        },
        "id": "HmNELUnvsrhx",
        "outputId": "f3004797-59aa-450c-c5e1-585fb16acd53"
      },
      "execution_count": 66,
      "outputs": [
        {
          "output_type": "stream",
          "name": "stdout",
          "text": [
            "(None, 128, 32, 32)\n",
            "(None, 64, 16, 128)\n",
            "(None, 32, 8, 512)\n",
            "(None, 64, 16, 640)\n",
            "(None, 128, 32, 288)\n",
            "(None, 256, 64, 104)\n"
          ]
        }
      ]
    },
    {
      "cell_type": "code",
      "source": [
        "model.summary()"
      ],
      "metadata": {
        "colab": {
          "base_uri": "https://localhost:8080/"
        },
        "id": "X1pgva7Wv2fQ",
        "outputId": "aa8bc8e9-6420-4088-db02-caaf19ccfc5c"
      },
      "execution_count": 67,
      "outputs": [
        {
          "output_type": "stream",
          "name": "stdout",
          "text": [
            "Model: \"model_11\"\n",
            "__________________________________________________________________________________________________\n",
            " Layer (type)                Output Shape                 Param #   Connected to                  \n",
            "==================================================================================================\n",
            " input_28 (InputLayer)       [(None, 256, 64, 1)]         0         []                            \n",
            "                                                                                                  \n",
            " conv2d_101 (Conv2D)         (None, 256, 64, 32)          320       ['input_28[0][0]']            \n",
            "                                                                                                  \n",
            " conv2d_102 (Conv2D)         (None, 256, 64, 32)          9248      ['conv2d_101[0][0]']          \n",
            "                                                                                                  \n",
            " patches_119 (Patches)       (None, 1024, 4, 4, 32)       0         ['conv2d_102[0][0]']          \n",
            "                                                                                                  \n",
            " self_attention_119 (SelfAt  (None, 1024, 4, 4, 32)       3169      ['patches_119[0][0]']         \n",
            " tention)                                                                                         \n",
            "                                                                                                  \n",
            " reconstruct_107 (Reconstru  (None, 256, 64, 32)          0         ['self_attention_119[0][0]']  \n",
            " ct)                                                                                              \n",
            "                                                                                                  \n",
            " max_pooling2d_70 (MaxPooli  (None, 128, 32, 32)          0         ['reconstruct_107[0][0]']     \n",
            " ng2D)                                                                                            \n",
            "                                                                                                  \n",
            " conv2d_103 (Conv2D)         (None, 128, 32, 128)         36992     ['max_pooling2d_70[0][0]']    \n",
            "                                                                                                  \n",
            " patches_120 (Patches)       (None, 256, 4, 4, 128)       0         ['conv2d_103[0][0]']          \n",
            "                                                                                                  \n",
            " self_attention_120 (SelfAt  (None, 256, 4, 4, 128)       49537     ['patches_120[0][0]']         \n",
            " tention)                                                                                         \n",
            "                                                                                                  \n",
            " reconstruct_108 (Reconstru  (None, 128, 32, 128)         0         ['self_attention_120[0][0]']  \n",
            " ct)                                                                                              \n",
            "                                                                                                  \n",
            " max_pooling2d_71 (MaxPooli  (None, 64, 16, 128)          0         ['reconstruct_108[0][0]']     \n",
            " ng2D)                                                                                            \n",
            "                                                                                                  \n",
            " conv2d_104 (Conv2D)         (None, 64, 16, 512)          590336    ['max_pooling2d_71[0][0]']    \n",
            "                                                                                                  \n",
            " patches_121 (Patches)       (None, 64, 4, 4, 512)        0         ['conv2d_104[0][0]']          \n",
            "                                                                                                  \n",
            " self_attention_121 (SelfAt  (None, 64, 4, 4, 512)        787969    ['patches_121[0][0]']         \n",
            " tention)                                                                                         \n",
            "                                                                                                  \n",
            " reconstruct_109 (Reconstru  (None, 64, 16, 512)          0         ['self_attention_121[0][0]']  \n",
            " ct)                                                                                              \n",
            "                                                                                                  \n",
            " max_pooling2d_72 (MaxPooli  (None, 32, 8, 512)           0         ['reconstruct_109[0][0]']     \n",
            " ng2D)                                                                                            \n",
            "                                                                                                  \n",
            " patches_122 (Patches)       (None, 16, 4, 4, 512)        0         ['max_pooling2d_72[0][0]']    \n",
            "                                                                                                  \n",
            " self_attention_122 (SelfAt  (None, 16, 4, 4, 512)        787969    ['patches_122[0][0]']         \n",
            " tention)                                                                                         \n",
            "                                                                                                  \n",
            " reconstruct_110 (Reconstru  (None, 32, 8, 512)           0         ['self_attention_122[0][0]']  \n",
            " ct)                                                                                              \n",
            "                                                                                                  \n",
            " pixel_shuffle_37 (PixelShu  (None, 64, 16, 128)          0         ['reconstruct_110[0][0]']     \n",
            " ffle)                                                                                            \n",
            "                                                                                                  \n",
            " conv2d_105 (Conv2D)         (None, 64, 16, 128)          147584    ['pixel_shuffle_37[0][0]']    \n",
            "                                                                                                  \n",
            " concatenate_22 (Concatenat  (None, 64, 16, 640)          0         ['conv2d_104[0][0]',          \n",
            " e)                                                                  'conv2d_105[0][0]']          \n",
            "                                                                                                  \n",
            " patches_123 (Patches)       (None, 64, 4, 4, 640)        0         ['concatenate_22[0][0]']      \n",
            "                                                                                                  \n",
            " self_attention_123 (SelfAt  (None, 64, 4, 4, 640)        1230721   ['patches_123[0][0]']         \n",
            " tention)                                                                                         \n",
            "                                                                                                  \n",
            " reconstruct_111 (Reconstru  (None, 64, 16, 640)          0         ['self_attention_123[0][0]']  \n",
            " ct)                                                                                              \n",
            "                                                                                                  \n",
            " pixel_shuffle_38 (PixelShu  (None, 128, 32, 160)         0         ['reconstruct_111[0][0]']     \n",
            " ffle)                                                                                            \n",
            "                                                                                                  \n",
            " conv2d_106 (Conv2D)         (None, 128, 32, 160)         230560    ['pixel_shuffle_38[0][0]']    \n",
            "                                                                                                  \n",
            " concatenate_23 (Concatenat  (None, 128, 32, 288)         0         ['conv2d_103[0][0]',          \n",
            " e)                                                                  'conv2d_106[0][0]']          \n",
            "                                                                                                  \n",
            " patches_124 (Patches)       (None, 256, 4, 4, 288)       0         ['concatenate_23[0][0]']      \n",
            "                                                                                                  \n",
            " self_attention_124 (SelfAt  (None, 256, 4, 4, 288)       249697    ['patches_124[0][0]']         \n",
            " tention)                                                                                         \n",
            "                                                                                                  \n",
            " reconstruct_112 (Reconstru  (None, 128, 32, 288)         0         ['self_attention_124[0][0]']  \n",
            " ct)                                                                                              \n",
            "                                                                                                  \n",
            " pixel_shuffle_39 (PixelShu  (None, 256, 64, 72)          0         ['reconstruct_112[0][0]']     \n",
            " ffle)                                                                                            \n",
            "                                                                                                  \n",
            " conv2d_107 (Conv2D)         (None, 256, 64, 72)          46728     ['pixel_shuffle_39[0][0]']    \n",
            "                                                                                                  \n",
            " concatenate_24 (Concatenat  (None, 256, 64, 104)         0         ['conv2d_102[0][0]',          \n",
            " e)                                                                  'conv2d_107[0][0]']          \n",
            "                                                                                                  \n",
            " conv2d_108 (Conv2D)         (None, 256, 64, 1)           937       ['concatenate_24[0][0]']      \n",
            "                                                                                                  \n",
            "==================================================================================================\n",
            "Total params: 4171767 (15.91 MB)\n",
            "Trainable params: 4171767 (15.91 MB)\n",
            "Non-trainable params: 0 (0.00 Byte)\n",
            "__________________________________________________________________________________________________\n"
          ]
        }
      ]
    },
    {
      "cell_type": "code",
      "source": [],
      "metadata": {
        "id": "NxHY-lZ3fO6Q"
      },
      "execution_count": null,
      "outputs": []
    }
  ]
}